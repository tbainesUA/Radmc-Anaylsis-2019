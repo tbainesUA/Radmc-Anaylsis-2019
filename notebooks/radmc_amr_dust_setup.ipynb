{
 "cells": [
  {
   "cell_type": "code",
   "execution_count": 1,
   "metadata": {},
   "outputs": [
    {
     "name": "stdout",
     "output_type": "stream",
     "text": [
      "did not import makedustopac\n"
     ]
    }
   ],
   "source": [
    "import numpy as np\n",
    "import astropy.constants as const\n",
    "import os\n",
    "try:\n",
    "    import makedustopac\n",
    "except ImportError:\n",
    "    print('did not import makedustopac')\n",
    "    pass\n",
    "\n",
    "# single grain size from Dsharp opac dustopac.inp only 1 input block\n",
    "# make a flow chart\n",
    "#"
   ]
  },
  {
   "cell_type": "code",
   "execution_count": 40,
   "metadata": {},
   "outputs": [
    {
     "name": "stdout",
     "output_type": "stream",
     "text": [
      "[1.04719755 3.14159265 5.23598776]\n",
      "[0.13089969 0.39269908 0.65449847 0.91629786 1.13446401 1.30899694\n",
      " 1.48352986 1.65806279 1.83259571 2.00712864 2.2252948  2.48709418\n",
      " 2.74889357 3.01069296]\n",
      "[5.74081829e+13 1.69232591e+14 2.81057000e+14 3.92881408e+14\n",
      " 5.59601110e+14 8.35933023e+14 1.24871807e+15]\n"
     ]
    }
   ],
   "source": [
    "#############\n",
    "# Constants #\n",
    "#############\n",
    "au   = const.au.cgs.value    # Astronomical Unit  [cm]\n",
    "pc   = const.pc.cgs.value    # Parsec             [cm]\n",
    "Msun = const.M_sun.cgs.value # Solar Mass         [g]\n",
    "Lsun = const.L_sun.cgs.value # Solar Luminosity   [ergs/s]\n",
    "Rsun = const.R_sun.cgs.value # Solar Radius       [cm]\n",
    "Tsun = 5780                  # Solar Temperature  [K] \n",
    "pi   = np.pi                 # circle stuff lol   [radians]\n",
    "##########################\n",
    "# radial cell wall setup #\n",
    "##########################\n",
    "\n",
    "rin            = 0.1 * au        # inner radius [cm]                      # Disk Param\n",
    "rout           = 100 * au        # outer radius [cm]                      # Disk Param\n",
    "r_factor       = 5               # point where to change grid style       # Grid Param\n",
    "rchange        = r_factor * rin  # radius where grid changes from [au]    # Grid Param\n",
    "nr_inner_cells = 3               # number of cell for inner FINE region   # Grid Param\n",
    "nr_outer_cells = 3               # number of cell for outer COARSE region # Grid Param\n",
    "\n",
    "r_grid_params = [                                             \n",
    "    [rin_au, rchange, nr_inner_cells + 1, False],      # inner radius args\n",
    "    [*np.log10([rchange,rout_au]), nr_outer_cells + 1] # outer radius args   \n",
    "]\n",
    "\n",
    "# to avoid duplication, endpoint is set to FALSE where rchange \n",
    "# will not be accounted for in inner grid but recovered in outer\n",
    "\n",
    "r_inner   = np.linspace(*r_grid_params[0])     # inner FINE grid style\n",
    "r_outer   = np.logspace(*r_grid_params[1])     # outer COARSE grid style\n",
    "r_grid    = np.concatenate([r_inner, r_outer]) # merge the two grids\n",
    "\n",
    "\n",
    "####################################\n",
    "# Theta cell wall setup (altitude) #\n",
    "####################################\n",
    "\n",
    "theta_min         = 0      # minimum altitude                   # grid param\n",
    "theta_change      = pi / 3 # loacation where grid style changes # grid param\n",
    "theta_midplane    = pi / 2 # mid-plane location\n",
    "ntheta_cells_high = 3      # number of cells near the plane     # grid param\n",
    "ntheta_cells_low  = 3      # number of cells near the plane     # grid param\n",
    "\n",
    "theta_grid_params = [\n",
    "    [theta_min, theta_change, ntheta_cells_high + 1, False], # theta high args\n",
    "    [theta_change, theta_midplane, ntheta_cells_low + 1]     # theta low args\n",
    "]\n",
    "\n",
    "theta_grid_high     = np.linspace(*theta_grid_params[0])                         # COARSE grid spacing\n",
    "theta_grid_low      = np.linspace(*theta_grid_params[1])                         # FINE grid spacing near the mid-plane\n",
    "theta_grid_1st_half = np.concatenate([theta_grid_high, theta_grid_low])          # 0 - 90 degress\n",
    "theta_grid_2nd_half = np.flip(pi - theta_grid_1st_half, 0)[1:]                   # from 90 to 180 degress\n",
    "theta_grid          = np. concatenate([theta_grid_1st_half,theta_grid_2nd_half]) # \n",
    "\n",
    "\n",
    "#################################\n",
    "# Phi cell wall setup (azimuth) #\n",
    "#################################\n",
    "\n",
    "nphi_cells        = 3                                   # number of cells in polar axis # Grid param\n",
    "phi_grid          = np.linspace(0, 2*pi, nphi_cells + 1) # polar angles\n",
    "\n",
    "##############################\n",
    "# Find centers of cell walls #\n",
    "##############################\n",
    "\n",
    "nr     = len(r_grid)\n",
    "nphi   = len(phi_grid)\n",
    "ntheta = len(theta_grid)\n",
    "\n",
    "r_center_grid     = 0.5 * ( r_grid_cm[0:nr-1] + r_grid_cm[1:nr] )\n",
    "phi_center_grid   = 0.5 * ( phi_grid[0:nphi-1] + phi_grid[1:nphi] )\n",
    "theta_center_grid = 0.5 * ( theta_grid[0:ntheta-1] + theta_grid[1:ntheta] )\n",
    "\n",
    "nr_center     = len(r_center_grid)\n",
    "nphi_center   = len(phi_center_grid)\n",
    "ntheta_center = len(theta_center_grid)\n",
    "\n",
    "#print(nr, nr_center)\n",
    "#print(nphi, nphi_center)\n",
    "#print(ntheta, ntheta_center)\n",
    "\n",
    "###############################\n",
    "# Write the spatial grid file #\n",
    "###############################\n",
    "\n",
    "def writeSpatialGridFile():\n",
    "    print('Writing amr_grid.inp ...')\n",
    "    with open('amr_grid.inp', 'w+') as f:\n",
    "        # Write formating section\n",
    "        f.write('1\\n')                                                      # iformat\n",
    "        f.write('0\\n')                                                      # AMR grid style  (0=regular grid, no AMR)\n",
    "        f.write('100\\n')                                                    # Coordinate system\n",
    "        f.write('0\\n')                                                      # grid info\n",
    "        f.write('1 1 1\\n')                                                  # include coordinate: r, phi, theta   #\n",
    "        f.write('{} {} {}\\n'.format(nr_center, nphi_center, ntheta_center)) # grid  cell info\n",
    "\n",
    "        # Write grid values\n",
    "        for r in r_grid_cm:\n",
    "            f.write('{} '.format(r))\n",
    "        f.write('\\n')\n",
    "        for phi in phi_grid:\n",
    "            f.write('{} '.format(phi))\n",
    "        f.write('\\n')\n",
    "        for theta in theta_grid:\n",
    "            f.write('{} '.format(theta))\n",
    "            \n",
    "print(phi_center_grid)\n",
    "print(theta_center_grid)\n",
    "print(r_center_grid)"
   ]
  },
  {
   "cell_type": "code",
   "execution_count": 41,
   "metadata": {},
   "outputs": [],
   "source": [
    "###################################################################\n",
    "# Dust Density Profile\n",
    "###################################################################\n",
    "\n",
    "# Constants\n",
    "rc_au      = 100 \n",
    "Mdust_Msun = 1e-4\n",
    "gamma      = 1\n",
    "H100au     = 10\n",
    "beta       = 2\n",
    "\n",
    "def coordTransformation(r, theta):\n",
    "    # convert spherical radius to cylindrical radius\n",
    "    r_cylindrical = r * np.sin(theta)\n",
    "    z_cylindrical = r * np.cos(theta)\n",
    "    return r_cylindrical , z_cylindrical\n",
    "     \n",
    "def volumeDustDensity(r, z, rc_au, Mdust_Msun, gamma, H100au, beta):\n",
    "    # Calculate the volume dust density\n",
    "    # inputs: radius [cm], z-component [cm], disk mass [g], gamma \"radial\n",
    "    # profile\" index, the scale height at 100 au [cm], beta \"flaring\n",
    "    # parameter\" index\n",
    "    \n",
    "    rc = rc_au * au \n",
    "    Mdust = Mdust_Msun * Msun\n",
    "    \n",
    "    def scaleHeight():\n",
    "        # Calculate the scale height at some radius\n",
    "        #                     r \n",
    "        # H(r) = H_100au (---------)^B\n",
    "        #                  100 au \n",
    "        return H100au * au * ( r / ( 100 * au ) )**beta    \n",
    "    \n",
    "    def surfaceDustDensity():\n",
    "        # calculate surface density and initial surface density (mass dependent) at some radius in cgs\n",
    "        s0 = Mdust * ( gamma - 2 ) / ( 2 * np.pi * (np.exp( ( rout_au / rc_au )**( 2 - gamma ) ) - np.exp( ( rin_au / rc_au )**( 2 - gamma ) ) ) )      \n",
    "        return s0 * ( r / rc )**( -gamma ) * np.exp( -( r / rc )**( 2 - gamma ) )\n",
    "    \n",
    "    return ( 1 / np.sqrt( 2 * np.pi ) ) * ( surfaceDustDensity() / scaleHeight() ) * np.exp( -0.5 * ( z / scaleHeight() )**2 )\n",
    "\n",
    "\n",
    "dust_density_grid = np.zeros((nphi_center, ntheta_center, nr_center))\n",
    "\n",
    "for i in range(nphi_center):\n",
    "    for j, theta in enumerate(theta_center_grid):\n",
    "        for k, radius in enumerate(r_center_grid): \n",
    "            r_cylindrical_jk , z_cylindrical_jk = coordTransformation(r_center_grid[k], theta_center_grid[j])\n",
    "            density = volumeDustDensity(r_cylindrical_jk, z_cylindrical, rc_au, Mdust_Msun, gamma, H100au, beta)\n",
    "            dust_density_grid[i][j,k] = density\n",
    "#r_cyl, z_cyl = coordTransformation(radius_grid_cm, theta_grid)\n",
    "\n",
    "\n",
    "\n"
   ]
  },
  {
   "cell_type": "code",
   "execution_count": 42,
   "metadata": {},
   "outputs": [
    {
     "name": "stdout",
     "output_type": "stream",
     "text": [
      "[[[-0.00000000e+000 -0.00000000e+000 -0.00000000e+000 -0.00000000e+000\n",
      "   -0.00000000e+000 -0.00000000e+000 -0.00000000e+000]\n",
      "  [-0.00000000e+000 -0.00000000e+000 -0.00000000e+000 -0.00000000e+000\n",
      "   -0.00000000e+000 -0.00000000e+000 -0.00000000e+000]\n",
      "  [-0.00000000e+000 -0.00000000e+000 -0.00000000e+000 -0.00000000e+000\n",
      "   -0.00000000e+000 -0.00000000e+000 -8.68453547e-213]\n",
      "  [-0.00000000e+000 -0.00000000e+000 -0.00000000e+000 -0.00000000e+000\n",
      "   -0.00000000e+000 -0.00000000e+000 -2.81108326e-065]\n",
      "  [-0.00000000e+000 -0.00000000e+000 -0.00000000e+000 -0.00000000e+000\n",
      "   -0.00000000e+000 -7.40546691e-216 -4.34867913e-033]\n",
      "  [-0.00000000e+000 -0.00000000e+000 -0.00000000e+000 -0.00000000e+000\n",
      "   -0.00000000e+000 -2.49066446e-164 -7.96948095e-023]\n",
      "  [-0.00000000e+000 -0.00000000e+000 -0.00000000e+000 -0.00000000e+000\n",
      "   -0.00000000e+000 -1.00134509e-143 -9.94849920e-019]\n",
      "  [-0.00000000e+000 -0.00000000e+000 -0.00000000e+000 -0.00000000e+000\n",
      "   -0.00000000e+000 -1.00134509e-143 -9.94849920e-019]\n",
      "  [-0.00000000e+000 -0.00000000e+000 -0.00000000e+000 -0.00000000e+000\n",
      "   -0.00000000e+000 -2.49066446e-164 -7.96948095e-023]\n",
      "  [-0.00000000e+000 -0.00000000e+000 -0.00000000e+000 -0.00000000e+000\n",
      "   -0.00000000e+000 -7.40546691e-216 -4.34867913e-033]\n",
      "  [-0.00000000e+000 -0.00000000e+000 -0.00000000e+000 -0.00000000e+000\n",
      "   -0.00000000e+000 -0.00000000e+000 -2.81108326e-065]\n",
      "  [-0.00000000e+000 -0.00000000e+000 -0.00000000e+000 -0.00000000e+000\n",
      "   -0.00000000e+000 -0.00000000e+000 -8.68453547e-213]\n",
      "  [-0.00000000e+000 -0.00000000e+000 -0.00000000e+000 -0.00000000e+000\n",
      "   -0.00000000e+000 -0.00000000e+000 -0.00000000e+000]\n",
      "  [-0.00000000e+000 -0.00000000e+000 -0.00000000e+000 -0.00000000e+000\n",
      "   -0.00000000e+000 -0.00000000e+000 -0.00000000e+000]]\n",
      "\n",
      " [[-0.00000000e+000 -0.00000000e+000 -0.00000000e+000 -0.00000000e+000\n",
      "   -0.00000000e+000 -0.00000000e+000 -0.00000000e+000]\n",
      "  [-0.00000000e+000 -0.00000000e+000 -0.00000000e+000 -0.00000000e+000\n",
      "   -0.00000000e+000 -0.00000000e+000 -0.00000000e+000]\n",
      "  [-0.00000000e+000 -0.00000000e+000 -0.00000000e+000 -0.00000000e+000\n",
      "   -0.00000000e+000 -0.00000000e+000 -8.68453547e-213]\n",
      "  [-0.00000000e+000 -0.00000000e+000 -0.00000000e+000 -0.00000000e+000\n",
      "   -0.00000000e+000 -0.00000000e+000 -2.81108326e-065]\n",
      "  [-0.00000000e+000 -0.00000000e+000 -0.00000000e+000 -0.00000000e+000\n",
      "   -0.00000000e+000 -7.40546691e-216 -4.34867913e-033]\n",
      "  [-0.00000000e+000 -0.00000000e+000 -0.00000000e+000 -0.00000000e+000\n",
      "   -0.00000000e+000 -2.49066446e-164 -7.96948095e-023]\n",
      "  [-0.00000000e+000 -0.00000000e+000 -0.00000000e+000 -0.00000000e+000\n",
      "   -0.00000000e+000 -1.00134509e-143 -9.94849920e-019]\n",
      "  [-0.00000000e+000 -0.00000000e+000 -0.00000000e+000 -0.00000000e+000\n",
      "   -0.00000000e+000 -1.00134509e-143 -9.94849920e-019]\n",
      "  [-0.00000000e+000 -0.00000000e+000 -0.00000000e+000 -0.00000000e+000\n",
      "   -0.00000000e+000 -2.49066446e-164 -7.96948095e-023]\n",
      "  [-0.00000000e+000 -0.00000000e+000 -0.00000000e+000 -0.00000000e+000\n",
      "   -0.00000000e+000 -7.40546691e-216 -4.34867913e-033]\n",
      "  [-0.00000000e+000 -0.00000000e+000 -0.00000000e+000 -0.00000000e+000\n",
      "   -0.00000000e+000 -0.00000000e+000 -2.81108326e-065]\n",
      "  [-0.00000000e+000 -0.00000000e+000 -0.00000000e+000 -0.00000000e+000\n",
      "   -0.00000000e+000 -0.00000000e+000 -8.68453547e-213]\n",
      "  [-0.00000000e+000 -0.00000000e+000 -0.00000000e+000 -0.00000000e+000\n",
      "   -0.00000000e+000 -0.00000000e+000 -0.00000000e+000]\n",
      "  [-0.00000000e+000 -0.00000000e+000 -0.00000000e+000 -0.00000000e+000\n",
      "   -0.00000000e+000 -0.00000000e+000 -0.00000000e+000]]\n",
      "\n",
      " [[-0.00000000e+000 -0.00000000e+000 -0.00000000e+000 -0.00000000e+000\n",
      "   -0.00000000e+000 -0.00000000e+000 -0.00000000e+000]\n",
      "  [-0.00000000e+000 -0.00000000e+000 -0.00000000e+000 -0.00000000e+000\n",
      "   -0.00000000e+000 -0.00000000e+000 -0.00000000e+000]\n",
      "  [-0.00000000e+000 -0.00000000e+000 -0.00000000e+000 -0.00000000e+000\n",
      "   -0.00000000e+000 -0.00000000e+000 -8.68453547e-213]\n",
      "  [-0.00000000e+000 -0.00000000e+000 -0.00000000e+000 -0.00000000e+000\n",
      "   -0.00000000e+000 -0.00000000e+000 -2.81108326e-065]\n",
      "  [-0.00000000e+000 -0.00000000e+000 -0.00000000e+000 -0.00000000e+000\n",
      "   -0.00000000e+000 -7.40546691e-216 -4.34867913e-033]\n",
      "  [-0.00000000e+000 -0.00000000e+000 -0.00000000e+000 -0.00000000e+000\n",
      "   -0.00000000e+000 -2.49066446e-164 -7.96948095e-023]\n",
      "  [-0.00000000e+000 -0.00000000e+000 -0.00000000e+000 -0.00000000e+000\n",
      "   -0.00000000e+000 -1.00134509e-143 -9.94849920e-019]\n",
      "  [-0.00000000e+000 -0.00000000e+000 -0.00000000e+000 -0.00000000e+000\n",
      "   -0.00000000e+000 -1.00134509e-143 -9.94849920e-019]\n",
      "  [-0.00000000e+000 -0.00000000e+000 -0.00000000e+000 -0.00000000e+000\n",
      "   -0.00000000e+000 -2.49066446e-164 -7.96948095e-023]\n",
      "  [-0.00000000e+000 -0.00000000e+000 -0.00000000e+000 -0.00000000e+000\n",
      "   -0.00000000e+000 -7.40546691e-216 -4.34867913e-033]\n",
      "  [-0.00000000e+000 -0.00000000e+000 -0.00000000e+000 -0.00000000e+000\n",
      "   -0.00000000e+000 -0.00000000e+000 -2.81108326e-065]\n",
      "  [-0.00000000e+000 -0.00000000e+000 -0.00000000e+000 -0.00000000e+000\n",
      "   -0.00000000e+000 -0.00000000e+000 -8.68453547e-213]\n",
      "  [-0.00000000e+000 -0.00000000e+000 -0.00000000e+000 -0.00000000e+000\n",
      "   -0.00000000e+000 -0.00000000e+000 -0.00000000e+000]\n",
      "  [-0.00000000e+000 -0.00000000e+000 -0.00000000e+000 -0.00000000e+000\n",
      "   -0.00000000e+000 -0.00000000e+000 -0.00000000e+000]]]\n",
      "[-0.00000000e+000 -0.00000000e+000 -0.00000000e+000 -0.00000000e+000\n",
      " -0.00000000e+000 -0.00000000e+000 -0.00000000e+000 -0.00000000e+000\n",
      " -0.00000000e+000 -0.00000000e+000 -0.00000000e+000 -0.00000000e+000\n",
      " -0.00000000e+000 -0.00000000e+000 -0.00000000e+000 -0.00000000e+000\n",
      " -0.00000000e+000 -0.00000000e+000 -0.00000000e+000 -0.00000000e+000\n",
      " -8.68453547e-213 -0.00000000e+000 -0.00000000e+000 -0.00000000e+000\n",
      " -0.00000000e+000 -0.00000000e+000 -0.00000000e+000 -2.81108326e-065\n",
      " -0.00000000e+000 -0.00000000e+000 -0.00000000e+000 -0.00000000e+000\n",
      " -0.00000000e+000 -7.40546691e-216 -4.34867913e-033 -0.00000000e+000\n",
      " -0.00000000e+000 -0.00000000e+000 -0.00000000e+000 -0.00000000e+000\n",
      " -2.49066446e-164 -7.96948095e-023 -0.00000000e+000 -0.00000000e+000\n",
      " -0.00000000e+000 -0.00000000e+000 -0.00000000e+000 -1.00134509e-143\n",
      " -9.94849920e-019 -0.00000000e+000 -0.00000000e+000 -0.00000000e+000\n",
      " -0.00000000e+000 -0.00000000e+000 -1.00134509e-143 -9.94849920e-019\n",
      " -0.00000000e+000 -0.00000000e+000 -0.00000000e+000 -0.00000000e+000\n",
      " -0.00000000e+000 -2.49066446e-164 -7.96948095e-023 -0.00000000e+000\n",
      " -0.00000000e+000 -0.00000000e+000 -0.00000000e+000 -0.00000000e+000\n",
      " -7.40546691e-216 -4.34867913e-033 -0.00000000e+000 -0.00000000e+000\n",
      " -0.00000000e+000 -0.00000000e+000 -0.00000000e+000 -0.00000000e+000\n",
      " -2.81108326e-065 -0.00000000e+000 -0.00000000e+000 -0.00000000e+000\n",
      " -0.00000000e+000 -0.00000000e+000 -0.00000000e+000 -8.68453547e-213\n",
      " -0.00000000e+000 -0.00000000e+000 -0.00000000e+000 -0.00000000e+000\n",
      " -0.00000000e+000 -0.00000000e+000 -0.00000000e+000 -0.00000000e+000\n",
      " -0.00000000e+000 -0.00000000e+000 -0.00000000e+000 -0.00000000e+000\n",
      " -0.00000000e+000 -0.00000000e+000 -0.00000000e+000 -0.00000000e+000\n",
      " -0.00000000e+000 -0.00000000e+000 -0.00000000e+000 -0.00000000e+000\n",
      " -0.00000000e+000 -0.00000000e+000 -0.00000000e+000 -0.00000000e+000\n",
      " -0.00000000e+000 -0.00000000e+000 -0.00000000e+000 -0.00000000e+000\n",
      " -0.00000000e+000 -0.00000000e+000 -0.00000000e+000 -0.00000000e+000\n",
      " -0.00000000e+000 -0.00000000e+000 -8.68453547e-213 -0.00000000e+000\n",
      " -0.00000000e+000 -0.00000000e+000 -0.00000000e+000 -0.00000000e+000\n",
      " -0.00000000e+000 -2.81108326e-065 -0.00000000e+000 -0.00000000e+000\n",
      " -0.00000000e+000 -0.00000000e+000 -0.00000000e+000 -7.40546691e-216\n",
      " -4.34867913e-033 -0.00000000e+000 -0.00000000e+000 -0.00000000e+000\n",
      " -0.00000000e+000 -0.00000000e+000 -2.49066446e-164 -7.96948095e-023\n",
      " -0.00000000e+000 -0.00000000e+000 -0.00000000e+000 -0.00000000e+000\n",
      " -0.00000000e+000 -1.00134509e-143 -9.94849920e-019 -0.00000000e+000\n",
      " -0.00000000e+000 -0.00000000e+000 -0.00000000e+000 -0.00000000e+000\n",
      " -1.00134509e-143 -9.94849920e-019 -0.00000000e+000 -0.00000000e+000\n",
      " -0.00000000e+000 -0.00000000e+000 -0.00000000e+000 -2.49066446e-164\n",
      " -7.96948095e-023 -0.00000000e+000 -0.00000000e+000 -0.00000000e+000\n",
      " -0.00000000e+000 -0.00000000e+000 -7.40546691e-216 -4.34867913e-033\n",
      " -0.00000000e+000 -0.00000000e+000 -0.00000000e+000 -0.00000000e+000\n",
      " -0.00000000e+000 -0.00000000e+000 -2.81108326e-065 -0.00000000e+000\n",
      " -0.00000000e+000 -0.00000000e+000 -0.00000000e+000 -0.00000000e+000\n",
      " -0.00000000e+000 -8.68453547e-213 -0.00000000e+000 -0.00000000e+000\n",
      " -0.00000000e+000 -0.00000000e+000 -0.00000000e+000 -0.00000000e+000\n",
      " -0.00000000e+000 -0.00000000e+000 -0.00000000e+000 -0.00000000e+000\n",
      " -0.00000000e+000 -0.00000000e+000 -0.00000000e+000 -0.00000000e+000\n",
      " -0.00000000e+000 -0.00000000e+000 -0.00000000e+000 -0.00000000e+000\n",
      " -0.00000000e+000 -0.00000000e+000 -0.00000000e+000 -0.00000000e+000\n",
      " -0.00000000e+000 -0.00000000e+000 -0.00000000e+000 -0.00000000e+000\n",
      " -0.00000000e+000 -0.00000000e+000 -0.00000000e+000 -0.00000000e+000\n",
      " -0.00000000e+000 -0.00000000e+000 -0.00000000e+000 -0.00000000e+000\n",
      " -8.68453547e-213 -0.00000000e+000 -0.00000000e+000 -0.00000000e+000\n",
      " -0.00000000e+000 -0.00000000e+000 -0.00000000e+000 -2.81108326e-065\n",
      " -0.00000000e+000 -0.00000000e+000 -0.00000000e+000 -0.00000000e+000\n",
      " -0.00000000e+000 -7.40546691e-216 -4.34867913e-033 -0.00000000e+000\n",
      " -0.00000000e+000 -0.00000000e+000 -0.00000000e+000 -0.00000000e+000\n",
      " -2.49066446e-164 -7.96948095e-023 -0.00000000e+000 -0.00000000e+000\n",
      " -0.00000000e+000 -0.00000000e+000 -0.00000000e+000 -1.00134509e-143\n",
      " -9.94849920e-019 -0.00000000e+000 -0.00000000e+000 -0.00000000e+000\n",
      " -0.00000000e+000 -0.00000000e+000 -1.00134509e-143 -9.94849920e-019\n",
      " -0.00000000e+000 -0.00000000e+000 -0.00000000e+000 -0.00000000e+000\n",
      " -0.00000000e+000 -2.49066446e-164 -7.96948095e-023 -0.00000000e+000\n",
      " -0.00000000e+000 -0.00000000e+000 -0.00000000e+000 -0.00000000e+000\n",
      " -7.40546691e-216 -4.34867913e-033 -0.00000000e+000 -0.00000000e+000\n",
      " -0.00000000e+000 -0.00000000e+000 -0.00000000e+000 -0.00000000e+000\n",
      " -2.81108326e-065 -0.00000000e+000 -0.00000000e+000 -0.00000000e+000\n",
      " -0.00000000e+000 -0.00000000e+000 -0.00000000e+000 -8.68453547e-213\n",
      " -0.00000000e+000 -0.00000000e+000 -0.00000000e+000 -0.00000000e+000\n",
      " -0.00000000e+000 -0.00000000e+000 -0.00000000e+000 -0.00000000e+000\n",
      " -0.00000000e+000 -0.00000000e+000 -0.00000000e+000 -0.00000000e+000\n",
      " -0.00000000e+000 -0.00000000e+000]\n"
     ]
    }
   ],
   "source": [
    "print(dust_density_grid)\n",
    "print(dust_density_grid.flatten())"
   ]
  },
  {
   "cell_type": "code",
   "execution_count": 53,
   "metadata": {},
   "outputs": [
    {
     "name": "stdout",
     "output_type": "stream",
     "text": [
      "[[  1  11  21  31  41  51  61  71  81  91 101]]\n",
      "[[1.57079633]\n",
      " [1.74532925]\n",
      " [1.91986218]\n",
      " [2.0943951 ]\n",
      " [2.26892803]\n",
      " [2.44346095]\n",
      " [2.61799388]\n",
      " [2.7925268 ]\n",
      " [2.96705973]\n",
      " [3.14159265]]\n",
      "[[1.00000000e+00 1.10000000e+01 2.10000000e+01 3.10000000e+01\n",
      "  4.10000000e+01 5.10000000e+01 6.10000000e+01 7.10000000e+01\n",
      "  8.10000000e+01 9.10000000e+01 1.01000000e+02]\n",
      " [9.84807753e-01 1.08328853e+01 2.06809628e+01 3.05290403e+01\n",
      "  4.03771179e+01 5.02251954e+01 6.00732729e+01 6.99213505e+01\n",
      "  7.97694280e+01 8.96175055e+01 9.94655831e+01]\n",
      " [9.39692621e-01 1.03366188e+01 1.97335450e+01 2.91304712e+01\n",
      "  3.85273975e+01 4.79243237e+01 5.73212499e+01 6.67181761e+01\n",
      "  7.61151023e+01 8.55120285e+01 9.49089547e+01]\n",
      " [8.66025404e-01 9.52627944e+00 1.81865335e+01 2.68467875e+01\n",
      "  3.55070416e+01 4.41672956e+01 5.28275496e+01 6.14878037e+01\n",
      "  7.01480577e+01 7.88083117e+01 8.74685658e+01]\n",
      " [7.66044443e-01 8.42648887e+00 1.60869333e+01 2.37473777e+01\n",
      "  3.14078222e+01 3.90682666e+01 4.67287110e+01 5.43891555e+01\n",
      "  6.20495999e+01 6.97100443e+01 7.73704888e+01]\n",
      " [6.42787610e-01 7.07066371e+00 1.34985398e+01 1.99264159e+01\n",
      "  2.63542920e+01 3.27821681e+01 3.92100442e+01 4.56379203e+01\n",
      "  5.20657964e+01 5.84936725e+01 6.49215486e+01]\n",
      " [5.00000000e-01 5.50000000e+00 1.05000000e+01 1.55000000e+01\n",
      "  2.05000000e+01 2.55000000e+01 3.05000000e+01 3.55000000e+01\n",
      "  4.05000000e+01 4.55000000e+01 5.05000000e+01]\n",
      " [3.42020143e-01 3.76222158e+00 7.18242301e+00 1.06026244e+01\n",
      "  1.40228259e+01 1.74430273e+01 2.08632287e+01 2.42834302e+01\n",
      "  2.77036316e+01 3.11238330e+01 3.45440345e+01]\n",
      " [1.73648178e-01 1.91012995e+00 3.64661173e+00 5.38309351e+00\n",
      "  7.11957528e+00 8.85605706e+00 1.05925388e+01 1.23290206e+01\n",
      "  1.40655024e+01 1.58019842e+01 1.75384659e+01]\n",
      " [1.22464680e-16 1.34711148e-15 2.57175828e-15 3.79640508e-15\n",
      "  5.02105188e-15 6.24569868e-15 7.47034547e-15 8.69499227e-15\n",
      "  9.91963907e-15 1.11442859e-14 1.23689327e-14]] (10, 11)\n"
     ]
    },
    {
     "data": {
      "text/plain": [
       "'dDG = np.random.randn(*dim_array)\\n\\nprint(dDG)\\nprint(dDG.shape)\\ndDG = dDG.flatten()\\nprint(dDG)\\nprint(dDG.shape)'"
      ]
     },
     "execution_count": 53,
     "metadata": {},
     "output_type": "execute_result"
    }
   ],
   "source": [
    "#dim_array = [nphi, ntheta, nr]\n",
    "dim_array = [4, 4, 4]\n",
    "n_phi = 5\n",
    "r = np.arange(1,111,10).reshape(1,-1)\n",
    "theta = np.linspace(np.pi/2, np.pi,10).reshape(-1,1)\n",
    "r_cyn = r * np.sin(theta)\n",
    "print(r)\n",
    "print(theta)\n",
    "print(r_cyn, r_cyn.shape)\n",
    "\n",
    "\n",
    "\n",
    "\n",
    "\"\"\"dDG = np.random.randn(*dim_array)\n",
    "\n",
    "print(dDG)\n",
    "print(dDG.shape)\n",
    "dDG = dDG.flatten()\n",
    "print(dDG)\n",
    "print(dDG.shape)\"\"\""
   ]
  },
  {
   "cell_type": "code",
   "execution_count": 54,
   "metadata": {},
   "outputs": [
    {
     "name": "stdout",
     "output_type": "stream",
     "text": [
      "64.0\n"
     ]
    }
   ],
   "source": [
    "count = 0.\n",
    "for i in range(4):\n",
    "    for j in range(4):\n",
    "        for k in range(4):\n",
    "            count += 1\n",
    "print (count)"
   ]
  },
  {
   "cell_type": "code",
   "execution_count": 55,
   "metadata": {},
   "outputs": [
    {
     "data": {
      "text/plain": [
       "array([[[-1.56236380e+00,  8.91257839e-01, -6.22286929e-01,\n",
       "          5.74726757e-01],\n",
       "        [ 4.68906199e-01, -1.64499136e-01,  1.64999028e-01,\n",
       "         -1.30417292e+00],\n",
       "        [ 9.13676972e-01, -5.25458754e-01,  8.85292132e-01,\n",
       "         -5.74812157e-01],\n",
       "        [-5.85320644e-01, -7.21903378e-01,  1.12723681e+00,\n",
       "          1.31216079e-01]],\n",
       "\n",
       "       [[-4.74000163e-01, -1.83417598e+00,  7.51827050e-02,\n",
       "         -4.42338910e-01],\n",
       "        [-6.33906962e-01, -2.40503027e-01,  1.70473139e+00,\n",
       "          2.62753831e-01],\n",
       "        [ 4.99682888e-01, -2.93994186e-01, -1.46584855e-01,\n",
       "          2.96651813e-02],\n",
       "        [-2.00367708e+00, -4.37794188e-02, -1.38481304e+00,\n",
       "         -9.25769449e-01]],\n",
       "\n",
       "       [[-7.51971912e-01,  5.41643024e-01, -2.84072193e-01,\n",
       "         -1.73605626e-01],\n",
       "        [-9.44300896e-01,  1.58175030e+00, -5.59727284e-01,\n",
       "         -1.83521008e+00],\n",
       "        [ 2.53765013e-01,  7.16124283e-01,  1.34975251e+00,\n",
       "          2.24964010e+00],\n",
       "        [-5.22983211e-01,  3.65489995e-01,  6.66267656e-01,\n",
       "          2.40670301e-01]],\n",
       "\n",
       "       [[-1.74459409e+00, -2.56492201e-01,  1.02833627e-01,\n",
       "         -1.29473033e+00],\n",
       "        [ 8.78031626e-01,  4.61627658e-02,  6.41411628e-01,\n",
       "          1.12935775e+00],\n",
       "        [-3.14622879e-01, -6.25640600e-01,  4.15982745e-01,\n",
       "          3.51918547e-01],\n",
       "        [-2.08523374e+00, -1.80446605e-01, -1.07376540e+00,\n",
       "         -1.54969714e-03]]])"
      ]
     },
     "execution_count": 55,
     "metadata": {},
     "output_type": "execute_result"
    }
   ],
   "source": [
    "test_arr = np.random.randn((*dim_array))\n",
    "test_arr"
   ]
  },
  {
   "cell_type": "code",
   "execution_count": 63,
   "metadata": {},
   "outputs": [
    {
     "data": {
      "text/plain": [
       "array([[-1.5623638 ,  0.89125784, -0.62228693,  0.57472676],\n",
       "       [ 0.4689062 , -0.16449914,  0.16499903, -1.30417292],\n",
       "       [ 0.91367697, -0.52545875,  0.88529213, -0.57481216],\n",
       "       [-0.58532064, -0.72190338,  1.12723681,  0.13121608]])"
      ]
     },
     "execution_count": 63,
     "metadata": {},
     "output_type": "execute_result"
    }
   ],
   "source": [
    "test_arr[0]"
   ]
  },
  {
   "cell_type": "code",
   "execution_count": 67,
   "metadata": {},
   "outputs": [
    {
     "data": {
      "text/plain": [
       "0.8912578385766119"
      ]
     },
     "execution_count": 67,
     "metadata": {},
     "output_type": "execute_result"
    }
   ],
   "source": [
    "test_arr[0][0,1] # -> test_arr[phi][theta,r]"
   ]
  },
  {
   "cell_type": "code",
   "execution_count": 61,
   "metadata": {},
   "outputs": [
    {
     "name": "stdout",
     "output_type": "stream",
     "text": [
      "(64,)\n"
     ]
    }
   ],
   "source": [
    "test_arr_1d = test_arr.flatten()\n",
    "print(test_arr_1d.shape)"
   ]
  },
  {
   "cell_type": "code",
   "execution_count": 70,
   "metadata": {},
   "outputs": [
    {
     "data": {
      "text/plain": [
       "array([[[1., 1.],\n",
       "        [1., 1.],\n",
       "        [1., 1.],\n",
       "        [1., 1.]],\n",
       "\n",
       "       [[1., 1.],\n",
       "        [1., 1.],\n",
       "        [1., 1.],\n",
       "        [1., 1.]]])"
      ]
     },
     "execution_count": 70,
     "metadata": {},
     "output_type": "execute_result"
    }
   ],
   "source": [
    "np.ones(16).reshape(2,4,2)"
   ]
  },
  {
   "cell_type": "code",
   "execution_count": 73,
   "metadata": {},
   "outputs": [
    {
     "name": "stdout",
     "output_type": "stream",
     "text": [
      "(array([0, 1, 2, 2, 2, 3], dtype=int64), array([3, 1, 1, 2, 2, 1], dtype=int64), array([2, 2, 1, 2, 3, 3], dtype=int64))\n"
     ]
    },
    {
     "data": {
      "text/plain": [
       "array([1.12723681, 1.70473139, 1.5817503 , 1.34975251, 2.2496401 ,\n",
       "       1.12935775])"
      ]
     },
     "execution_count": 73,
     "metadata": {},
     "output_type": "execute_result"
    }
   ],
   "source": [
    "index = np.where(test_arr > 1)\n",
    "print(index)\n",
    "test_arr[index]"
   ]
  },
  {
   "cell_type": "code",
   "execution_count": 74,
   "metadata": {},
   "outputs": [
    {
     "data": {
      "text/plain": [
       "array([0., 1.])"
      ]
     },
     "execution_count": 74,
     "metadata": {},
     "output_type": "execute_result"
    }
   ],
   "source": [
    "# set up for loop\n",
    "# run for loop from nick code\n",
    "# make vectorize versions\n",
    "# density = (nphi, ntheta, nr)\n",
    "# density[nphi_i][ntheta_j, nr_k] is that block that represents the phi iteration;\n",
    "# phi does no calculations all \n",
    "# compute the 2d array -> append to density 3d arry collect all theta 1 values\n",
    "\n",
    "# all theta one values composed into phi block\n",
    "np.log10([1,10])"
   ]
  },
  {
   "cell_type": "code",
   "execution_count": null,
   "metadata": {
    "collapsed": true
   },
   "outputs": [],
   "source": []
  }
 ],
 "metadata": {
  "kernelspec": {
   "display_name": "Python 3",
   "language": "python",
   "name": "python3"
  },
  "language_info": {
   "codemirror_mode": {
    "name": "ipython",
    "version": 3
   },
   "file_extension": ".py",
   "mimetype": "text/x-python",
   "name": "python",
   "nbconvert_exporter": "python",
   "pygments_lexer": "ipython3",
   "version": "3.6.2"
  }
 },
 "nbformat": 4,
 "nbformat_minor": 2
}

{
 "cells": [
  {
   "cell_type": "code",
   "execution_count": null,
   "metadata": {
    "collapsed": true
   },
   "outputs": [],
   "source": [
    "\"\"\"\n",
    "This scipt is generate the stars.inp file for radmc setup\n",
    "\n",
    "For x stars in Cha I sample get stellar information: \n",
    "    Stellar Property : Filename\n",
    "    ---------------------------\n",
    "    Luminosity  : LBOL.dat\n",
    "    Temperature : TEFF.dat\n",
    "    Radius      : Stefan-Boltzmann Law\n",
    "                |           L  \n",
    "                | R^2 = ---------\n",
    "                |         4πσT^4\n",
    "\n",
    "From files get stellar atmosphere models, and perform conversions to 1 pc\n",
    "\n",
    "By: Tyler Baines\n",
    "Status: In Progress\n",
    "\"\"\""
   ]
  },
  {
   "cell_type": "code",
   "execution_count": 3,
   "metadata": {
    "collapsed": true
   },
   "outputs": [],
   "source": [
    "import numpy as np"
   ]
  },
  {
   "cell_type": "code",
   "execution_count": 19,
   "metadata": {
    "collapsed": true
   },
   "outputs": [],
   "source": [
    "# Single star you used for each file\n",
    "# file wavelengths linked to wavelength_micron.inp file\n",
    "# find stellar model -> load model -> get star -> do conversions 1 pc->\n",
    "# interp values onto wave*.inp grid -> write file\n",
    "\n",
    "lam_um = np.logspace(-2,5) # identical to wavelength.inp file\n",
    "fnu_star = np.logspace(18,23)\n",
    "rstar = 10"
   ]
  },
  {
   "cell_type": "code",
   "execution_count": 17,
   "metadata": {
    "collapsed": true
   },
   "outputs": [],
   "source": [
    "def writeStarFile(wavelengths, fnu_star, rstar):\n",
    "    print(' writing stars.inp ...')\n",
    "    with open('stars.inp', 'w+') as f:\n",
    "        # Write formating section\n",
    "        f.write('2\\n')                                # iformat\n",
    "        f.write('1 50\\n')                             # number of stars and wavelenths\n",
    "        f.write('{} 0 0 0 0\\n'.format(rstar)) # Stellar information: centered\n",
    "\n",
    "        # Write wavelengths [um] first then flux [cgs]\n",
    "        for lam in wavelengths:\n",
    "            f.write('{}\\n'.format(lam))\n",
    "        for fnu in fnu_star:\n",
    "            f.write('{}\\n'.format(fnu))"
   ]
  }
 ],
 "metadata": {
  "kernelspec": {
   "display_name": "Python 3",
   "language": "python",
   "name": "python3"
  },
  "language_info": {
   "codemirror_mode": {
    "name": "ipython",
    "version": 3
   },
   "file_extension": ".py",
   "mimetype": "text/x-python",
   "name": "python",
   "nbconvert_exporter": "python",
   "pygments_lexer": "ipython3",
   "version": "3.6.2"
  }
 },
 "nbformat": 4,
 "nbformat_minor": 2
}

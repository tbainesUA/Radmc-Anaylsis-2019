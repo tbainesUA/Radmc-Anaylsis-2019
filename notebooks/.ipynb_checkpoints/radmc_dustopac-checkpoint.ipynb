{
 "cells": [
  {
   "cell_type": "code",
   "execution_count": 9,
   "metadata": {},
   "outputs": [
    {
     "name": "stdout",
     "output_type": "stream",
     "text": [
      "['dustkapscatmat_0.inp', 'dustkapscatmat_1.inp', 'dustkapscatmat_2.inp', 'dustkapscatmat_3.inp', 'dustkapscatmat_4.inp', 'dustkapscatmat_5.inp', 'dustkapscatmat_6.inp', 'dustkapscatmat_7.inp', 'dustkapscatmat_8.inp', 'dustkapscatmat_9.inp']\n",
      "10\n"
     ]
    }
   ],
   "source": [
    "# This script generates the dust opacity files that will be read by radmc\n",
    "# \n",
    "\n",
    "\n",
    "# Test list of species to be used\n",
    "# Generated dustkap* files made using DSHARP opacity results.almost done\n",
    "dust_species_input = []\n",
    "for i in range(0,10):\n",
    "    dust_species_input.append('dustkapscatmat_' + str(i) + '.inp')\n",
    "print(dust_species_input)\n",
    "print(len(dust_species_input))"
   ]
  },
  {
   "cell_type": "code",
   "execution_count": 16,
   "metadata": {},
   "outputs": [],
   "source": [
    "def writeDustOpacFile(dust_species):\n",
    "    nspecies = len(dust_species)\n",
    "    print(' writing dustopac.inp with {} dust species...'.format(nspecies))\n",
    "    with open('dustopac.inp', 'w+') as f:\n",
    "        # Write formating section\n",
    "        f.write('2\\n')                           # iformat\n",
    "        f.write('{}\\n'.format(nspecies))         # number species to be used\n",
    "        f.write('-----------------------------\\n') # Stellar information: centered\n",
    "\n",
    "        # Write species sections \n",
    "        for spec in range(nspecies):\n",
    "            f.write('inputstyle[{}]\\n'.format(spec))\n",
    "            f.write('iquantum[0]\\n')\n",
    "            f.write('{}\\n'.format(dust_species[spec]))\n",
    "            if spec != nspecies - 1:\n",
    "                f.write('-----------------------------\\n')"
   ]
  },
  {
   "cell_type": "code",
   "execution_count": 17,
   "metadata": {},
   "outputs": [
    {
     "name": "stdout",
     "output_type": "stream",
     "text": [
      " writing dustopac.inp with 10 dust species...\n"
     ]
    }
   ],
   "source": [
    "writeDustOpacFile(dust_species=dust_species_input)"
   ]
  },
  {
   "cell_type": "code",
   "execution_count": null,
   "metadata": {
    "collapsed": true
   },
   "outputs": [],
   "source": []
  }
 ],
 "metadata": {
  "kernelspec": {
   "display_name": "Python 3",
   "language": "python",
   "name": "python3"
  },
  "language_info": {
   "codemirror_mode": {
    "name": "ipython",
    "version": 3
   },
   "file_extension": ".py",
   "mimetype": "text/x-python",
   "name": "python",
   "nbconvert_exporter": "python",
   "pygments_lexer": "ipython3",
   "version": "3.6.2"
  }
 },
 "nbformat": 4,
 "nbformat_minor": 2
}

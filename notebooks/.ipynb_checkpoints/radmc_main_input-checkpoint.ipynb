{
 "cells": [
  {
   "cell_type": "code",
   "execution_count": 1,
   "metadata": {
    "collapsed": true
   },
   "outputs": [],
   "source": [
    "# This script produces the main radmc input file\n",
    "# \n",
    "# By: Tyler Baines"
   ]
  },
  {
   "cell_type": "code",
   "execution_count": null,
   "metadata": {
    "collapsed": true
   },
   "outputs": [],
   "source": [
    "def writeRadmcTHERM():\n",
    "    # write the thermal input file to compute dust temperature of model\n",
    "    print(' writing radmc3d.inp for thermal calculation...')\n",
    "    with open('radmc3d.inp', 'w+') as f:\n",
    "        f.write('nphot = 100000\\n')\n",
    "        f.write('istar_sphere = 1\\n')\n",
    "        f.write('scattering_mode_max = 3\\n')\n",
    "        #f.write('')\n",
    "        # Write formating section\n",
    "        \n",
    "def writeRadmcSED():\n",
    "    # write the spectrum input file for spectrum calculation of model\n",
    "    print(' writing radmc3d.inp for spectrum calculation...')\n",
    "    with open('radmc3d.inp', 'w+') as f:\n",
    "        # Write formating section\n",
    "        f.write('nphot = 100000\\n')\n",
    "        f.write('istar_sphere = 1\\n')\n",
    "        f.write('scattering_mode_max = 3\\n')\n",
    "        "
   ]
  }
 ],
 "metadata": {
  "kernelspec": {
   "display_name": "Python 3",
   "language": "python",
   "name": "python3"
  },
  "language_info": {
   "codemirror_mode": {
    "name": "ipython",
    "version": 3
   },
   "file_extension": ".py",
   "mimetype": "text/x-python",
   "name": "python",
   "nbconvert_exporter": "python",
   "pygments_lexer": "ipython3",
   "version": "3.6.2"
  }
 },
 "nbformat": 4,
 "nbformat_minor": 2
}

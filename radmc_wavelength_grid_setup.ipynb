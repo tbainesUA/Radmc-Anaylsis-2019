{
 "cells": [
  {
   "cell_type": "code",
   "execution_count": 1,
   "metadata": {},
   "outputs": [],
   "source": [
    "import numpy as np"
   ]
  },
  {
   "cell_type": "code",
   "execution_count": 7,
   "metadata": {},
   "outputs": [],
   "source": [
    "# This program write the wavelength input file for radmc\n",
    "# to be update with appropiate values when doing final analysis\n",
    "#\n",
    "\n",
    "filename = 'wavelength_micron.inp'\n",
    "\n",
    "# Define wavelengths that will be use to make final wavlength grid\n",
    "lambda1 = 0.02\n",
    "lambda2 = 10.0\n",
    "lambda3 = 50.0\n",
    "lambda4 = 1000.0\n",
    "\n",
    "# Define the size of each set of wavelengths that will be produced\n",
    "n_12 = 20\n",
    "n_23 = 150\n",
    "n_34 = 70\n",
    "\n",
    "# Put into a list\n",
    "lambda_SET = [lambda1, lambda2, lambda3, lambda4]\n",
    "size_SET = [n_12, n_23, n_34]\n",
    "\n",
    "# Calculate the log of wavelength set\n",
    "ln_lambda_SET = np.log10(lambda_SET)\n",
    "\n",
    "# Make wavelength arrays and merge for final\n",
    "lambda12 = np.logspace(ln_lambda_SET[0], ln_lambda_SET[1], size_SET[0], endpoint=False)\n",
    "lambda23 = np.logspace(ln_lambda_SET[1], ln_lambda_SET[2], size_SET[1], endpoint=False)\n",
    "lambda34 = np.logspace(ln_lambda_SET[2], ln_lambda_SET[3], size_SET[2], endpoint=True) \n",
    "lambda_grid = np.concatenate([lambda12, lambda23, lambda34])\n",
    "\n",
    "# Size of wavelength grid\n",
    "nlambda = len(lambda_grid)\n",
    "\n",
    "# Write wavelength_micron.inp file\n",
    "with open(filename, 'w+') as f:\n",
    "    f.write('%d\\n'%(nlambda))\n",
    "    for value in lambda_grid:\n",
    "        f.write('%13.6e\\n'%(value))"
   ]
  },
  {
   "cell_type": "code",
   "execution_count": null,
   "metadata": {},
   "outputs": [],
   "source": []
  }
 ],
 "metadata": {
  "kernelspec": {
   "display_name": "Python 3",
   "language": "python",
   "name": "python3"
  },
  "language_info": {
   "codemirror_mode": {
    "name": "ipython",
    "version": 3
   },
   "file_extension": ".py",
   "mimetype": "text/x-python",
   "name": "python",
   "nbconvert_exporter": "python",
   "pygments_lexer": "ipython3",
   "version": "3.6.7"
  }
 },
 "nbformat": 4,
 "nbformat_minor": 2
}

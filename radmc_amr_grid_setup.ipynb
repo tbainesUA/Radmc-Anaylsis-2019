{
 "cells": [
  {
   "cell_type": "code",
   "execution_count": 20,
   "metadata": {
    "collapsed": true
   },
   "outputs": [],
   "source": [
    "import numpy as np\n",
    "import astropy.constants as const\n",
    "import os"
   ]
  },
  {
   "cell_type": "code",
   "execution_count": null,
   "metadata": {
    "collapsed": true
   },
   "outputs": [],
   "source": [
    "###################################################################\n",
    "# Constants\n",
    "###################################################################\n",
    "au =   const.au.cgs.value                                         # Astronomical Unit  [cm]\n",
    "pc =   const.pc.cgs.value                                         # Parsec             [cm]\n",
    "Msun = const.M_sun.cgs.value                                      # Solar Mass         [g]\n",
    "Lsun = const.L_sun.cgs.value                                      # Solar Luminosity   [ergs/s]\n",
    "Rsun = const.R_sun.cgs.value                                      # Solar Radius       [cm]\n",
    "Tsun = 5780                                                       # Solar Temperature  [K] "
   ]
  },
  {
   "cell_type": "code",
   "execution_count": null,
   "metadata": {
    "collapsed": true
   },
   "outputs": [],
   "source": [
    "###################################################################\n",
    "# File Specifics\n",
    "###################################################################\n",
    "filename = 'amr_grid.inp'  # standard input filename for radmc-3d\n",
    "\n",
    "amr_file_format = {\n",
    "    'iformat':      1,   # file format \n",
    "    'grid stype':   0,   # 0 -> is regular, no oct-tree\n",
    "    'coord system': 100, # spherical coordinate sysmtem\n",
    "    'grid info':    0,   # standard\n",
    "    'incl_r':       1,   # 1 - active, 0 - inactive\n",
    "    'incl_theta':   1,   # \n",
    "    'incl_phi':     1,   # \n",
    "}"
   ]
  },
  {
   "cell_type": "code",
   "execution_count": 113,
   "metadata": {},
   "outputs": [],
   "source": [
    "\n",
    "###################################################################\n",
    "# Physical Grid Properies: Radius, Theta, Phi\n",
    "###################################################################\n",
    "\n",
    "\n",
    "###################################################################\n",
    "# Radius Setup\n",
    "###################################################################\n",
    "# Grid Bounds and grid sizing\n",
    "radiusBound = [0.1, 30, 100]                                      \n",
    "nrFINE = 50\n",
    "nrCOARSE = 30\n",
    "nRadius = nrFINE + nrCOARSE\n",
    "\n",
    "# args for generating cells walls\n",
    "radiusGridParametersFINE = [*radiusBound[:2], nrFINE, False]\n",
    "radiusGridParametersCOARSE = [*np.log10(radiusBound[1:]), nrCOARSE + 1, True]\n",
    "\n",
    "# make cell walls for refined gridding\n",
    "radiusFINE = np.linspace(*radiusGridParametersFINE) \n",
    "radiusCOARSE = np.logspace(*radiusGridParametersCOARSE)\n",
    "\n",
    "# model radius\n",
    "radius = np.concatenate([radiusFINE, radiusCOARSE]) #* au\n",
    "\n",
    "\n",
    "###################################################################\n",
    "# Theta Setup (angle) latitude\n",
    "###################################################################\n",
    "thetaBounds = [0, np.pi]\n",
    "nTheta = 10\n",
    "thetaGridParameters = [*thetaBounds, nTheta + 1, True]\n",
    "theta = np.linspace(*thetaGridParameters)\n",
    "\n",
    "\n",
    "###################################################################\n",
    "# Phi Setup\n",
    "###################################################################\n",
    "phiBounds = [0, 2.*np.pi]\n",
    "nPhi = 10\n",
    "phiGridParameters = [*phiBounds, nPhi + 1, True]\n",
    "phi = np.linspace(*phiGridParameters)\n",
    "\n",
    "###################################################################\n",
    "# Write the grid file\n",
    "###################################################################\n",
    "def writeSpatialGridFile():\n",
    "    print('Writing' + ' ' + filename + '...')\n",
    "    with open(filename, 'w+') as f:\n",
    "        # Write formating section\n",
    "        f.write('{}\\n'.format(file_format['iformat']))            # iformat\n",
    "        f.write('{}\\n'.format(file_format['grid stype']))         # AMR grid style  (0=regular grid, no AMR)\n",
    "        f.write('{}\\n'.format(file_format['coord system']))       # Coordinate system\n",
    "        f.write('{}\\n'.format(file_format['grid info']))          # grid info\n",
    "        f.write('{} {} {}\\n'.format(file_format['incl_r'],        # include coordinate: r, phi, theta\n",
    "                                    file_format['incl_phi'],      #\n",
    "                                    file_format['incl_theta']))   #\n",
    "        f.write('{} {} {}\\n'.format(nRadius, nPhi, nTheta))       # grid  cell info\n",
    "\n",
    "        # Write grid values\n",
    "        for r in radius:\n",
    "            f.write('{} '.format(r))\n",
    "        f.write('\\n')\n",
    "        for p in phi:\n",
    "            f.write('{} '.format(p))\n",
    "        f.write('\\n')\n",
    "        for t in theta:\n",
    "            f.write('{} '.format(t))   "
   ]
  }
 ],
 "metadata": {
  "kernelspec": {
   "display_name": "Python 3",
   "language": "python",
   "name": "python3"
  },
  "language_info": {
   "codemirror_mode": {
    "name": "ipython",
    "version": 3
   },
   "file_extension": ".py",
   "mimetype": "text/x-python",
   "name": "python",
   "nbconvert_exporter": "python",
   "pygments_lexer": "ipython3",
   "version": "3.6.2"
  }
 },
 "nbformat": 4,
 "nbformat_minor": 2
}
